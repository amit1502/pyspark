{
 "cells": [
  {
   "cell_type": "code",
   "execution_count": 2,
   "id": "fed94c83-223f-4b89-ae2c-510008bb8b3c",
   "metadata": {},
   "outputs": [
    {
     "name": "stderr",
     "output_type": "stream",
     "text": [
      "                                                                                "
     ]
    },
    {
     "name": "stdout",
     "output_type": "stream",
     "text": [
      "+---+-------+---+\n",
      "| id|   name|age|\n",
      "+---+-------+---+\n",
      "|  0|  Alice| 25|\n",
      "|  1|    Bob| 28|\n",
      "|  2|Charlie| 35|\n",
      "+---+-------+---+\n",
      "\n"
     ]
    }
   ],
   "source": [
    "from pyspark.sql import SparkSession\n",
    "from pyspark.sql.types import StructType, StructField, IntegerType, StringType\n",
    "\n",
    "# create spark session\n",
    "spark = SparkSession.builder \\\n",
    ".appName('dataFrameOps')\\\n",
    ".getOrCreate()\n",
    "\n",
    "# generate data\n",
    "data = [\n",
    "    (0, 'Alice', 25),\n",
    "    (1, 'Bob', 28),\n",
    "    (2, 'Charlie', 35)\n",
    "]\n",
    "\n",
    "schema = StructType([\n",
    "    StructField('id', IntegerType(), True),\n",
    "    StructField('name', StringType(), True),\n",
    "    StructField('age', IntegerType(), True),\n",
    "])\n",
    "\n",
    "df = spark.createDataFrame(data, schema)\n",
    "\n",
    "df.show()"
   ]
  },
  {
   "cell_type": "code",
   "execution_count": 3,
   "id": "8a350548-c15b-47c2-b35b-90c0041cb14e",
   "metadata": {},
   "outputs": [
    {
     "name": "stdout",
     "output_type": "stream",
     "text": [
      "root\n",
      " |-- id: integer (nullable = true)\n",
      " |-- name: string (nullable = true)\n",
      " |-- age: integer (nullable = true)\n",
      "\n"
     ]
    }
   ],
   "source": [
    "df.printSchema()"
   ]
  },
  {
   "cell_type": "code",
   "execution_count": 5,
   "id": "3de7915b-37f1-41f6-8832-3c80527f43e5",
   "metadata": {},
   "outputs": [
    {
     "data": {
      "text/plain": [
       "['id', 'name', 'age']"
      ]
     },
     "execution_count": 5,
     "metadata": {},
     "output_type": "execute_result"
    }
   ],
   "source": [
    "df.columns"
   ]
  },
  {
   "cell_type": "code",
   "execution_count": 7,
   "id": "fdd66d1c-3f82-4f07-b7be-ef7b6201877d",
   "metadata": {},
   "outputs": [
    {
     "name": "stderr",
     "output_type": "stream",
     "text": [
      "[Stage 3:>                                                        (0 + 14) / 14]"
     ]
    },
    {
     "name": "stdout",
     "output_type": "stream",
     "text": [
      "+-------+---+-------+------------------+\n",
      "|summary| id|   name|               age|\n",
      "+-------+---+-------+------------------+\n",
      "|  count|  3|      3|                 3|\n",
      "|   mean|1.0|   NULL|29.333333333333332|\n",
      "| stddev|1.0|   NULL| 5.131601439446884|\n",
      "|    min|  0|  Alice|                25|\n",
      "|    max|  2|Charlie|                35|\n",
      "+-------+---+-------+------------------+\n",
      "\n"
     ]
    },
    {
     "name": "stderr",
     "output_type": "stream",
     "text": [
      "                                                                                "
     ]
    }
   ],
   "source": [
    "df.describe().show()"
   ]
  },
  {
   "cell_type": "code",
   "execution_count": 8,
   "id": "b0b00176-8c08-47ca-9171-b1ed39f38e89",
   "metadata": {},
   "outputs": [],
   "source": [
    "# select and filter use case"
   ]
  },
  {
   "cell_type": "code",
   "execution_count": 10,
   "id": "2e4b5142-3797-40f7-aaa8-9b5814bfccc7",
   "metadata": {},
   "outputs": [
    {
     "name": "stdout",
     "output_type": "stream",
     "text": [
      "+---+-------+\n",
      "| id|   name|\n",
      "+---+-------+\n",
      "|  0|  Alice|\n",
      "|  1|    Bob|\n",
      "|  2|Charlie|\n",
      "+---+-------+\n",
      "\n"
     ]
    }
   ],
   "source": [
    "df.select('id', 'name').show()"
   ]
  },
  {
   "cell_type": "code",
   "execution_count": 11,
   "id": "35edf81a-c329-4883-8bf6-042dee07bf74",
   "metadata": {},
   "outputs": [
    {
     "name": "stdout",
     "output_type": "stream",
     "text": [
      "+---+-------+---+\n",
      "| id|   name|age|\n",
      "+---+-------+---+\n",
      "|  2|Charlie| 35|\n",
      "+---+-------+---+\n",
      "\n"
     ]
    }
   ],
   "source": [
    "df.filter(df.age > 30).show()"
   ]
  },
  {
   "cell_type": "code",
   "execution_count": 13,
   "id": "8e953527-8947-4996-b9ed-c430fd5f04fb",
   "metadata": {},
   "outputs": [
    {
     "name": "stdout",
     "output_type": "stream",
     "text": [
      "+---+-----+---+\n",
      "| id| name|age|\n",
      "+---+-----+---+\n",
      "|  0|Alice| 25|\n",
      "+---+-----+---+\n",
      "\n"
     ]
    }
   ],
   "source": [
    "df.where(df.name == 'Alice').show()"
   ]
  },
  {
   "cell_type": "code",
   "execution_count": 14,
   "id": "b96805e3-a3da-41ea-a72b-10fce7866b3c",
   "metadata": {},
   "outputs": [],
   "source": [
    "# ordering"
   ]
  },
  {
   "cell_type": "code",
   "execution_count": 17,
   "id": "eed28edb-ee25-4f91-8509-508c7f3d670a",
   "metadata": {},
   "outputs": [
    {
     "name": "stdout",
     "output_type": "stream",
     "text": [
      "+---+-------+---+\n",
      "| id|   name|age|\n",
      "+---+-------+---+\n",
      "|  0|  Alice| 25|\n",
      "|  1|    Bob| 28|\n",
      "|  2|Charlie| 35|\n",
      "+---+-------+---+\n",
      "\n"
     ]
    },
    {
     "name": "stderr",
     "output_type": "stream",
     "text": [
      "                                                                                "
     ]
    }
   ],
   "source": [
    "df.orderBy(df.age).show()"
   ]
  },
  {
   "cell_type": "code",
   "execution_count": 18,
   "id": "3fab8ba7-7584-4b23-bf88-8d94a67af837",
   "metadata": {},
   "outputs": [
    {
     "name": "stdout",
     "output_type": "stream",
     "text": [
      "+---+-------+---+\n",
      "| id|   name|age|\n",
      "+---+-------+---+\n",
      "|  2|Charlie| 35|\n",
      "|  1|    Bob| 28|\n",
      "|  0|  Alice| 25|\n",
      "+---+-------+---+\n",
      "\n"
     ]
    }
   ],
   "source": [
    "df.orderBy(df.age.desc()).show()"
   ]
  },
  {
   "cell_type": "code",
   "execution_count": 19,
   "id": "0902d648-de9e-4b19-83cc-e25a69d5517c",
   "metadata": {},
   "outputs": [],
   "source": [
    "# group by and aggregation"
   ]
  },
  {
   "cell_type": "code",
   "execution_count": 20,
   "id": "66e30b39-a16c-4ce3-88f3-b8cff12f6140",
   "metadata": {},
   "outputs": [
    {
     "name": "stdout",
     "output_type": "stream",
     "text": [
      "+-------+-----+\n",
      "|   name|count|\n",
      "+-------+-----+\n",
      "|  Alice|    1|\n",
      "|    Bob|    1|\n",
      "|Charlie|    1|\n",
      "+-------+-----+\n",
      "\n"
     ]
    }
   ],
   "source": [
    "df.groupBy(df.name).count().show()"
   ]
  },
  {
   "cell_type": "code",
   "execution_count": 25,
   "id": "74fce0f1-1c79-42e6-b755-9f6caa2712b1",
   "metadata": {},
   "outputs": [
    {
     "name": "stdout",
     "output_type": "stream",
     "text": [
      "+--------+\n",
      "|max(age)|\n",
      "+--------+\n",
      "|      35|\n",
      "+--------+\n",
      "\n"
     ]
    }
   ],
   "source": [
    "df.agg({'age': 'max'}).show()"
   ]
  },
  {
   "cell_type": "code",
   "execution_count": 26,
   "id": "e8e27fbf-a6aa-4c65-9010-85d19e1a601e",
   "metadata": {},
   "outputs": [
    {
     "name": "stdout",
     "output_type": "stream",
     "text": [
      "+------------------+\n",
      "|          avg(age)|\n",
      "+------------------+\n",
      "|29.333333333333332|\n",
      "+------------------+\n",
      "\n"
     ]
    }
   ],
   "source": [
    "df.agg({'age': 'avg'}).show()"
   ]
  },
  {
   "cell_type": "code",
   "execution_count": 27,
   "id": "6efdb921-657f-4b5a-9d93-ea41e5e1d462",
   "metadata": {},
   "outputs": [],
   "source": [
    "# Join"
   ]
  },
  {
   "cell_type": "code",
   "execution_count": 29,
   "id": "d01573b6-2282-4a51-a4fc-52a7e86b2f88",
   "metadata": {},
   "outputs": [
    {
     "name": "stdout",
     "output_type": "stream",
     "text": [
      "+---+---------+\n",
      "| id|  country|\n",
      "+---+---------+\n",
      "|  0|    India|\n",
      "|  1|  England|\n",
      "|  2|Australia|\n",
      "+---+---------+\n",
      "\n"
     ]
    }
   ],
   "source": [
    "data2 = [\n",
    "    (0, 'India'),\n",
    "    (1, 'England'),\n",
    "    (2, 'Australia'),\n",
    "]\n",
    "\n",
    "schema2 = StructType([\n",
    "    StructField('id', IntegerType(), True),\n",
    "    StructField('country', StringType(), True),\n",
    "])\n",
    "\n",
    "df2 = spark.createDataFrame(data2, schema2)\n",
    "\n",
    "df2.show()"
   ]
  },
  {
   "cell_type": "code",
   "execution_count": 30,
   "id": "bcfc6d69-cd63-492e-aeb1-ef8e06b19a3c",
   "metadata": {},
   "outputs": [
    {
     "name": "stdout",
     "output_type": "stream",
     "text": [
      "+---+-------+---+\n",
      "| id|   name|age|\n",
      "+---+-------+---+\n",
      "|  0|  Alice| 25|\n",
      "|  1|    Bob| 28|\n",
      "|  2|Charlie| 35|\n",
      "+---+-------+---+\n",
      "\n"
     ]
    }
   ],
   "source": [
    "df.show()"
   ]
  },
  {
   "cell_type": "code",
   "execution_count": 31,
   "id": "3543977c-b0ac-4878-ae38-3b7575af5790",
   "metadata": {},
   "outputs": [
    {
     "name": "stderr",
     "output_type": "stream",
     "text": [
      "[Stage 32:==============> (13 + 1) / 14][Stage 33:========>        (7 + 7) / 14]"
     ]
    },
    {
     "name": "stdout",
     "output_type": "stream",
     "text": [
      "+---+-------+---+---------+\n",
      "| id|   name|age|  country|\n",
      "+---+-------+---+---------+\n",
      "|  0|  Alice| 25|    India|\n",
      "|  1|    Bob| 28|  England|\n",
      "|  2|Charlie| 35|Australia|\n",
      "+---+-------+---+---------+\n",
      "\n"
     ]
    },
    {
     "name": "stderr",
     "output_type": "stream",
     "text": [
      "                                                                                "
     ]
    }
   ],
   "source": [
    "df.join(df2, 'id').show()"
   ]
  },
  {
   "cell_type": "code",
   "execution_count": 32,
   "id": "07e25cb9-136e-4e31-8267-bca2350646f0",
   "metadata": {},
   "outputs": [
    {
     "name": "stderr",
     "output_type": "stream",
     "text": [
      "[Stage 38:============================================>           (11 + 3) / 14]"
     ]
    },
    {
     "name": "stdout",
     "output_type": "stream",
     "text": [
      "+-------+---------+\n",
      "|   name|  country|\n",
      "+-------+---------+\n",
      "|  Alice|    India|\n",
      "|    Bob|  England|\n",
      "|Charlie|Australia|\n",
      "+-------+---------+\n",
      "\n"
     ]
    },
    {
     "name": "stderr",
     "output_type": "stream",
     "text": [
      "                                                                                "
     ]
    }
   ],
   "source": [
    "df.join(df2, 'id').select(df.name, df2.country).show()"
   ]
  },
  {
   "cell_type": "code",
   "execution_count": 33,
   "id": "de5e87d3-1f44-41e4-bab8-944355f58ae6",
   "metadata": {},
   "outputs": [],
   "source": [
    "spark.stop()"
   ]
  },
  {
   "cell_type": "code",
   "execution_count": null,
   "id": "64347c50-f7a9-48ef-9324-4c88e9c7cba3",
   "metadata": {},
   "outputs": [],
   "source": []
  }
 ],
 "metadata": {
  "kernelspec": {
   "display_name": "Python 3 (ipykernel)",
   "language": "python",
   "name": "python3"
  },
  "language_info": {
   "codemirror_mode": {
    "name": "ipython",
    "version": 3
   },
   "file_extension": ".py",
   "mimetype": "text/x-python",
   "name": "python",
   "nbconvert_exporter": "python",
   "pygments_lexer": "ipython3",
   "version": "3.10.14"
  }
 },
 "nbformat": 4,
 "nbformat_minor": 5
}
