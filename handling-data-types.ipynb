{
 "cells": [
  {
   "cell_type": "code",
   "execution_count": 1,
   "id": "55dfcc11-8abb-477c-9986-d857b4bd0047",
   "metadata": {},
   "outputs": [],
   "source": [
    "from pyspark.sql import SparkSession"
   ]
  },
  {
   "cell_type": "code",
   "execution_count": 2,
   "id": "7344a910-0e1f-4e32-850f-5df6e2b70b81",
   "metadata": {},
   "outputs": [
    {
     "name": "stderr",
     "output_type": "stream",
     "text": [
      "Setting default log level to \"WARN\".\n",
      "To adjust logging level use sc.setLogLevel(newLevel). For SparkR, use setLogLevel(newLevel).\n",
      "25/03/30 20:19:06 WARN NativeCodeLoader: Unable to load native-hadoop library for your platform... using builtin-java classes where applicable\n"
     ]
    }
   ],
   "source": [
    "spark = SparkSession.builder \\\n",
    ".appName('handling-data-types') \\\n",
    ".getOrCreate()"
   ]
  },
  {
   "cell_type": "code",
   "execution_count": 3,
   "id": "d7a5a3ce-972d-402c-939f-02ceab467b92",
   "metadata": {},
   "outputs": [
    {
     "name": "stderr",
     "output_type": "stream",
     "text": [
      "                                                                                "
     ]
    },
    {
     "name": "stdout",
     "output_type": "stream",
     "text": [
      "+---+------------+---------+-----------+------+---------+\n",
      "| id|        name|     city|       date|amount|is_active|\n",
      "+---+------------+---------+-----------+------+---------+\n",
      "|  1|    John Doe| Banglore| 2023-01-15|152.75|     True|\n",
      "|  2|  Jane Smith|    Delhi| 2023-05-20| 89.75|     True|\n",
      "|  3|Robert Brown|   Mumbai|InvalidDate|200.00|     True|\n",
      "|  4| Linda White|  Kolkata| 2023-01-16|  None|      yes|\n",
      "|  5|  Mike Green|  Chennai| 2023-08-10|   NaN|        1|\n",
      "|  6|  Sarah Blue|Hyderabad|InvalidDate|300.25|       No|\n",
      "+---+------------+---------+-----------+------+---------+\n",
      "\n"
     ]
    }
   ],
   "source": [
    "data = [\n",
    "    (1, \"John Doe\", \"Banglore\", \"2023-01-15\", \"152.75\", \"True\"),\n",
    "    (2, \"Jane Smith\", \"Delhi\", \"2023-05-20\", \"89.75\", \"True\"),\n",
    "    (3, \"Robert Brown\", \"Mumbai\", \"InvalidDate\", \"200.00\", \"True\"),\n",
    "    (4, \"Linda White\", \"Kolkata\", \"2023-01-16\", \"None\", \"yes\"),\n",
    "    (5, \"Mike Green\", \"Chennai\", \"2023-08-10\", \"NaN\", \"1\"),\n",
    "    (6, \"Sarah Blue\", \"Hyderabad\", \"InvalidDate\", \"300.25\", \"No\"),\n",
    "]\n",
    "\n",
    "columns = [\"id\", \"name\", \"city\", \"date\", \"amount\", \"is_active\"]\n",
    "\n",
    "df = spark.createDataFrame(data, schema = columns)\n",
    "\n",
    "df.show()"
   ]
  },
  {
   "cell_type": "code",
   "execution_count": 5,
   "id": "e23d9287-ef9e-4bfe-8c28-d3d417420145",
   "metadata": {},
   "outputs": [
    {
     "name": "stdout",
     "output_type": "stream",
     "text": [
      "root\n",
      " |-- id: long (nullable = true)\n",
      " |-- name: string (nullable = true)\n",
      " |-- city: string (nullable = true)\n",
      " |-- date: string (nullable = true)\n",
      " |-- amount: string (nullable = true)\n",
      " |-- is_active: string (nullable = true)\n",
      "\n"
     ]
    }
   ],
   "source": [
    "df.printSchema()"
   ]
  },
  {
   "cell_type": "code",
   "execution_count": 6,
   "id": "14e1d941-85a6-410e-a0f2-f5e5146be164",
   "metadata": {},
   "outputs": [],
   "source": [
    "# handle integer column"
   ]
  },
  {
   "cell_type": "code",
   "execution_count": 7,
   "id": "663f263d-ea85-43de-853f-7e09022cb680",
   "metadata": {},
   "outputs": [
    {
     "data": {
      "text/plain": [
       "Column<'id'>"
      ]
     },
     "execution_count": 7,
     "metadata": {},
     "output_type": "execute_result"
    }
   ],
   "source": [
    "df['id']"
   ]
  },
  {
   "cell_type": "code",
   "execution_count": 8,
   "id": "227fcd27-1bde-466a-a704-5f8f9a421696",
   "metadata": {},
   "outputs": [
    {
     "name": "stdout",
     "output_type": "stream",
     "text": [
      "+---+-----------+---------+-----------+------+---------+\n",
      "| id|       name|     city|       date|amount|is_active|\n",
      "+---+-----------+---------+-----------+------+---------+\n",
      "|  4|Linda White|  Kolkata| 2023-01-16|  None|      yes|\n",
      "|  5| Mike Green|  Chennai| 2023-08-10|   NaN|        1|\n",
      "|  6| Sarah Blue|Hyderabad|InvalidDate|300.25|       No|\n",
      "+---+-----------+---------+-----------+------+---------+\n",
      "\n"
     ]
    }
   ],
   "source": [
    "df.filter(df.id > 3).show()"
   ]
  },
  {
   "cell_type": "code",
   "execution_count": 10,
   "id": "f8186d56-b343-4d53-8a47-afac05d83c09",
   "metadata": {},
   "outputs": [
    {
     "name": "stdout",
     "output_type": "stream",
     "text": [
      "+---+------------+---------+-----------+------+---------+---------+\n",
      "| id|        name|     city|       date|amount|is_active|double_id|\n",
      "+---+------------+---------+-----------+------+---------+---------+\n",
      "|  1|    John Doe| Banglore| 2023-01-15|152.75|     True|        2|\n",
      "|  2|  Jane Smith|    Delhi| 2023-05-20| 89.75|     True|        4|\n",
      "|  3|Robert Brown|   Mumbai|InvalidDate|200.00|     True|        6|\n",
      "|  4| Linda White|  Kolkata| 2023-01-16|  None|      yes|        8|\n",
      "|  5|  Mike Green|  Chennai| 2023-08-10|   NaN|        1|       10|\n",
      "|  6|  Sarah Blue|Hyderabad|InvalidDate|300.25|       No|       12|\n",
      "+---+------------+---------+-----------+------+---------+---------+\n",
      "\n"
     ]
    }
   ],
   "source": [
    "df.withColumn('double_id', df.id*2).show()"
   ]
  },
  {
   "cell_type": "code",
   "execution_count": 13,
   "id": "11637f78-45cb-4b02-9b70-77e79505942a",
   "metadata": {},
   "outputs": [],
   "source": [
    "# type cast long to int\n",
    "\n",
    "from pyspark.sql.types import IntegerType\n",
    "from pyspark.sql.functions import col\n",
    "\n",
    "df = df.withColumn('id', col('id').cast(IntegerType())) "
   ]
  },
  {
   "cell_type": "code",
   "execution_count": 14,
   "id": "f4be147f-cb68-4d1c-9e31-e2d9a05e5356",
   "metadata": {},
   "outputs": [
    {
     "name": "stdout",
     "output_type": "stream",
     "text": [
      "+---+------------+---------+-----------+------+---------+\n",
      "| id|        name|     city|       date|amount|is_active|\n",
      "+---+------------+---------+-----------+------+---------+\n",
      "|  1|    John Doe| Banglore| 2023-01-15|152.75|     True|\n",
      "|  2|  Jane Smith|    Delhi| 2023-05-20| 89.75|     True|\n",
      "|  3|Robert Brown|   Mumbai|InvalidDate|200.00|     True|\n",
      "|  4| Linda White|  Kolkata| 2023-01-16|  None|      yes|\n",
      "|  5|  Mike Green|  Chennai| 2023-08-10|   NaN|        1|\n",
      "|  6|  Sarah Blue|Hyderabad|InvalidDate|300.25|       No|\n",
      "+---+------------+---------+-----------+------+---------+\n",
      "\n"
     ]
    }
   ],
   "source": [
    "df.show()"
   ]
  },
  {
   "cell_type": "code",
   "execution_count": 15,
   "id": "6a3e272b-5ba3-4e26-9a17-8856720fefe1",
   "metadata": {},
   "outputs": [
    {
     "name": "stdout",
     "output_type": "stream",
     "text": [
      "root\n",
      " |-- id: integer (nullable = true)\n",
      " |-- name: string (nullable = true)\n",
      " |-- city: string (nullable = true)\n",
      " |-- date: string (nullable = true)\n",
      " |-- amount: string (nullable = true)\n",
      " |-- is_active: string (nullable = true)\n",
      "\n"
     ]
    }
   ],
   "source": [
    "df.printSchema()"
   ]
  },
  {
   "cell_type": "code",
   "execution_count": 19,
   "id": "f19fec33-4bd9-45a3-bfec-42ccee6c147c",
   "metadata": {},
   "outputs": [
    {
     "name": "stdout",
     "output_type": "stream",
     "text": [
      "+---+------------+---------+-----------+------+---------+------------+\n",
      "| id|        name|     city|       date|amount|is_active|  upper_name|\n",
      "+---+------------+---------+-----------+------+---------+------------+\n",
      "|  1|    John Doe| Banglore| 2023-01-15|152.75|     True|    JOHN DOE|\n",
      "|  2|  Jane Smith|    Delhi| 2023-05-20| 89.75|     True|  JANE SMITH|\n",
      "|  3|Robert Brown|   Mumbai|InvalidDate|200.00|     True|ROBERT BROWN|\n",
      "|  4| Linda White|  Kolkata| 2023-01-16|  None|      yes| LINDA WHITE|\n",
      "|  5|  Mike Green|  Chennai| 2023-08-10|   NaN|        1|  MIKE GREEN|\n",
      "|  6|  Sarah Blue|Hyderabad|InvalidDate|300.25|       No|  SARAH BLUE|\n",
      "+---+------------+---------+-----------+------+---------+------------+\n",
      "\n"
     ]
    }
   ],
   "source": [
    "# handling strings\n",
    "from pyspark.sql.functions import upper\n",
    "from pyspark.sql.functions import col\n",
    "\n",
    "df.withColumn('upper_name', upper('name')).show()"
   ]
  },
  {
   "cell_type": "code",
   "execution_count": 22,
   "id": "dd4e8648-4ded-4d39-9645-4e534ae01101",
   "metadata": {},
   "outputs": [
    {
     "name": "stdout",
     "output_type": "stream",
     "text": [
      "+---+----------+--------+----------+------+---------+\n",
      "| id|      name|    city|      date|amount|is_active|\n",
      "+---+----------+--------+----------+------+---------+\n",
      "|  1|  John Doe|Banglore|2023-01-15|152.75|     True|\n",
      "|  2|Jane Smith|   Delhi|2023-05-20| 89.75|     True|\n",
      "+---+----------+--------+----------+------+---------+\n",
      "\n"
     ]
    }
   ],
   "source": [
    "from pyspark.sql.functions import startswith\n",
    "df.filter(df.name.startswith('J')).show()"
   ]
  },
  {
   "cell_type": "code",
   "execution_count": 23,
   "id": "5e7a1cd9-f9c8-405c-9c9c-0425cc60a8ce",
   "metadata": {},
   "outputs": [],
   "source": [
    "# float type"
   ]
  },
  {
   "cell_type": "code",
   "execution_count": 24,
   "id": "b27e2327-b914-47cd-b85e-0ddedae08ddf",
   "metadata": {},
   "outputs": [
    {
     "name": "stdout",
     "output_type": "stream",
     "text": [
      "root\n",
      " |-- id: integer (nullable = true)\n",
      " |-- name: string (nullable = true)\n",
      " |-- city: string (nullable = true)\n",
      " |-- date: string (nullable = true)\n",
      " |-- amount: string (nullable = true)\n",
      " |-- is_active: string (nullable = true)\n",
      "\n"
     ]
    }
   ],
   "source": [
    "df.printSchema()"
   ]
  },
  {
   "cell_type": "code",
   "execution_count": 25,
   "id": "94d215c5-4b8b-4309-80a3-8a1f2f614aae",
   "metadata": {},
   "outputs": [],
   "source": [
    "from pyspark.sql.types import FloatType\n",
    "df = df.withColumn('amount', col('amount').cast(FloatType()))"
   ]
  },
  {
   "cell_type": "code",
   "execution_count": 26,
   "id": "454e8c3d-790e-46b0-bf4a-44a2adb9688a",
   "metadata": {},
   "outputs": [
    {
     "name": "stdout",
     "output_type": "stream",
     "text": [
      "root\n",
      " |-- id: integer (nullable = true)\n",
      " |-- name: string (nullable = true)\n",
      " |-- city: string (nullable = true)\n",
      " |-- date: string (nullable = true)\n",
      " |-- amount: float (nullable = true)\n",
      " |-- is_active: string (nullable = true)\n",
      "\n"
     ]
    }
   ],
   "source": [
    "df.printSchema()"
   ]
  },
  {
   "cell_type": "code",
   "execution_count": 27,
   "id": "810d5360-b70c-474a-abd2-d52f3cdbfb6a",
   "metadata": {},
   "outputs": [
    {
     "name": "stdout",
     "output_type": "stream",
     "text": [
      "+---+------------+---------+-----------+------+---------+\n",
      "| id|        name|     city|       date|amount|is_active|\n",
      "+---+------------+---------+-----------+------+---------+\n",
      "|  1|    John Doe| Banglore| 2023-01-15|152.75|     True|\n",
      "|  2|  Jane Smith|    Delhi| 2023-05-20| 89.75|     True|\n",
      "|  3|Robert Brown|   Mumbai|InvalidDate| 200.0|     True|\n",
      "|  4| Linda White|  Kolkata| 2023-01-16|  NULL|      yes|\n",
      "|  5|  Mike Green|  Chennai| 2023-08-10|   NaN|        1|\n",
      "|  6|  Sarah Blue|Hyderabad|InvalidDate|300.25|       No|\n",
      "+---+------------+---------+-----------+------+---------+\n",
      "\n"
     ]
    }
   ],
   "source": [
    "df.show()"
   ]
  },
  {
   "cell_type": "code",
   "execution_count": 28,
   "id": "abada6fd-efb5-44f4-a3e1-8bc8134d376d",
   "metadata": {},
   "outputs": [
    {
     "name": "stdout",
     "output_type": "stream",
     "text": [
      "+---+------------+---------+-----------+------+---------+\n",
      "| id|        name|     city|       date|amount|is_active|\n",
      "+---+------------+---------+-----------+------+---------+\n",
      "|  1|    John Doe| Banglore| 2023-01-15|152.75|     True|\n",
      "|  2|  Jane Smith|    Delhi| 2023-05-20| 89.75|     True|\n",
      "|  3|Robert Brown|   Mumbai|InvalidDate| 200.0|     True|\n",
      "|  4| Linda White|  Kolkata| 2023-01-16|   0.0|      yes|\n",
      "|  5|  Mike Green|  Chennai| 2023-08-10|   0.0|        1|\n",
      "|  6|  Sarah Blue|Hyderabad|InvalidDate|300.25|       No|\n",
      "+---+------------+---------+-----------+------+---------+\n",
      "\n"
     ]
    }
   ],
   "source": [
    "df_filled = df.fillna({'amount': 0.0})\n",
    "df_filled.show()"
   ]
  },
  {
   "cell_type": "code",
   "execution_count": null,
   "id": "4e0c1cb3-49bd-445c-b847-3de389805cca",
   "metadata": {},
   "outputs": [],
   "source": []
  }
 ],
 "metadata": {
  "kernelspec": {
   "display_name": "Python 3 (ipykernel)",
   "language": "python",
   "name": "python3"
  },
  "language_info": {
   "codemirror_mode": {
    "name": "ipython",
    "version": 3
   },
   "file_extension": ".py",
   "mimetype": "text/x-python",
   "name": "python",
   "nbconvert_exporter": "python",
   "pygments_lexer": "ipython3",
   "version": "3.10.14"
  }
 },
 "nbformat": 4,
 "nbformat_minor": 5
}
