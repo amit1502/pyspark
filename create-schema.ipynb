{
 "cells": [
  {
   "cell_type": "code",
   "execution_count": 1,
   "id": "1c1d9b5e-11ce-4965-b15e-6c7c12be330d",
   "metadata": {},
   "outputs": [],
   "source": [
    "from pyspark.sql import SparkSession"
   ]
  },
  {
   "cell_type": "code",
   "execution_count": 2,
   "id": "fb603676-ca59-4a28-adfb-12e0a348d3b7",
   "metadata": {},
   "outputs": [
    {
     "name": "stderr",
     "output_type": "stream",
     "text": [
      "Setting default log level to \"WARN\".\n",
      "To adjust logging level use sc.setLogLevel(newLevel). For SparkR, use setLogLevel(newLevel).\n",
      "25/03/30 17:55:57 WARN NativeCodeLoader: Unable to load native-hadoop library for your platform... using builtin-java classes where applicable\n",
      "25/03/30 17:55:58 WARN Utils: Service 'SparkUI' could not bind on port 4040. Attempting port 4041.\n"
     ]
    }
   ],
   "source": [
    "spark = SparkSession.builder \\\n",
    ".appName('Creating own schema') \\\n",
    ".getOrCreate()"
   ]
  },
  {
   "cell_type": "code",
   "execution_count": 5,
   "id": "87dc7c4b-bafc-4e4e-896b-e82d1c4c026b",
   "metadata": {},
   "outputs": [],
   "source": [
    "from pyspark.sql.types import StructType, StructField, IntegerType, StringType, BooleanType"
   ]
  },
  {
   "cell_type": "code",
   "execution_count": 6,
   "id": "3cccc1cd-6521-47cd-bd06-84e69a9891ac",
   "metadata": {},
   "outputs": [],
   "source": [
    "schema = StructType([\n",
    "    StructField('customer_id', IntegerType(), True),\n",
    "    StructField('name', StringType(), True),\n",
    "    StructField('city', StringType(), True),\n",
    "    StructField('state', StringType(), True),\n",
    "    StructField('country', StringType(), True),\n",
    "    StructField('registration_date', StringType(), True),\n",
    "    StructField('is_active', BooleanType(), True),\n",
    "])"
   ]
  },
  {
   "cell_type": "code",
   "execution_count": 8,
   "id": "06f291dd-a5f9-4aef-8fee-8f5aad3a8ef8",
   "metadata": {},
   "outputs": [],
   "source": [
    "df = spark.read \\\n",
    ".format('csv') \\\n",
    ".option('header', 'true') \\\n",
    ".schema(schema) \\\n",
    ".load('/root/pyspark/first_100_customers.csv')"
   ]
  },
  {
   "cell_type": "code",
   "execution_count": 9,
   "id": "14de2269-40dc-44b4-b663-6a6f6b84c97a",
   "metadata": {},
   "outputs": [
    {
     "name": "stderr",
     "output_type": "stream",
     "text": [
      "                                                                                "
     ]
    },
    {
     "name": "stdout",
     "output_type": "stream",
     "text": [
      "+-----------+-----------+---------+-----------+-------+-----------------+---------+\n",
      "|customer_id|       name|     city|      state|country|registration_date|is_active|\n",
      "+-----------+-----------+---------+-----------+-------+-----------------+---------+\n",
      "|          0| Customer_0|     Pune|Maharashtra|  India|       2023-06-29|    false|\n",
      "|          1| Customer_1|Bangalore| Tamil Nadu|  India|       2023-12-07|     true|\n",
      "|          2| Customer_2|Hyderabad|    Gujarat|  India|       2023-10-27|     true|\n",
      "|          3| Customer_3|Bangalore|  Karnataka|  India|       2023-10-17|    false|\n",
      "|          4| Customer_4|Ahmedabad|  Karnataka|  India|       2023-03-14|    false|\n",
      "|          5| Customer_5|Hyderabad|  Karnataka|  India|       2023-07-28|    false|\n",
      "|          6| Customer_6|     Pune|      Delhi|  India|       2023-08-29|    false|\n",
      "|          7| Customer_7|Ahmedabad|West Bengal|  India|       2023-12-28|     true|\n",
      "|          8| Customer_8|     Pune|  Karnataka|  India|       2023-06-22|     true|\n",
      "|          9| Customer_9|   Mumbai|  Telangana|  India|       2023-01-05|     true|\n",
      "|         10|Customer_10|     Pune|    Gujarat|  India|       2023-08-05|     true|\n",
      "|         11|Customer_11|    Delhi|West Bengal|  India|       2023-08-02|    false|\n",
      "|         12|Customer_12|  Chennai|    Gujarat|  India|       2023-11-21|    false|\n",
      "|         13|Customer_13|  Chennai|  Karnataka|  India|       2023-11-06|     true|\n",
      "|         14|Customer_14|Hyderabad| Tamil Nadu|  India|       2023-02-07|    false|\n",
      "|         15|Customer_15|   Mumbai|    Gujarat|  India|       2023-03-02|     true|\n",
      "|         16|Customer_16|  Chennai|  Karnataka|  India|       2023-04-05|    false|\n",
      "|         17|Customer_17|Hyderabad|West Bengal|  India|       2023-08-21|    false|\n",
      "|         18|Customer_18|     Pune|      Delhi|  India|       2023-10-04|     true|\n",
      "|         19|Customer_19|  Kolkata|    Gujarat|  India|       2023-02-05|     true|\n",
      "+-----------+-----------+---------+-----------+-------+-----------------+---------+\n",
      "only showing top 20 rows\n",
      "\n"
     ]
    }
   ],
   "source": [
    "df.show()"
   ]
  },
  {
   "cell_type": "code",
   "execution_count": 10,
   "id": "7fdb13a6-78ec-4bad-9928-94f1593cc21a",
   "metadata": {},
   "outputs": [
    {
     "name": "stdout",
     "output_type": "stream",
     "text": [
      "root\n",
      " |-- customer_id: integer (nullable = true)\n",
      " |-- name: string (nullable = true)\n",
      " |-- city: string (nullable = true)\n",
      " |-- state: string (nullable = true)\n",
      " |-- country: string (nullable = true)\n",
      " |-- registration_date: string (nullable = true)\n",
      " |-- is_active: boolean (nullable = true)\n",
      "\n"
     ]
    }
   ],
   "source": [
    "df.printSchema()"
   ]
  },
  {
   "cell_type": "code",
   "execution_count": 12,
   "id": "1463426e-da9d-4c34-afaf-10d5f205de68",
   "metadata": {},
   "outputs": [
    {
     "name": "stdout",
     "output_type": "stream",
     "text": [
      "+-----------+---------+\n",
      "|       name|     city|\n",
      "+-----------+---------+\n",
      "| Customer_0|     Pune|\n",
      "| Customer_1|Bangalore|\n",
      "| Customer_2|Hyderabad|\n",
      "| Customer_3|Bangalore|\n",
      "| Customer_4|Ahmedabad|\n",
      "| Customer_5|Hyderabad|\n",
      "| Customer_6|     Pune|\n",
      "| Customer_7|Ahmedabad|\n",
      "| Customer_8|     Pune|\n",
      "| Customer_9|   Mumbai|\n",
      "|Customer_10|     Pune|\n",
      "|Customer_11|    Delhi|\n",
      "|Customer_12|  Chennai|\n",
      "|Customer_13|  Chennai|\n",
      "|Customer_14|Hyderabad|\n",
      "|Customer_15|   Mumbai|\n",
      "|Customer_16|  Chennai|\n",
      "|Customer_17|Hyderabad|\n",
      "|Customer_18|     Pune|\n",
      "|Customer_19|  Kolkata|\n",
      "+-----------+---------+\n",
      "only showing top 20 rows\n",
      "\n"
     ]
    }
   ],
   "source": [
    "df.select('name', 'city').show()"
   ]
  },
  {
   "cell_type": "code",
   "execution_count": 17,
   "id": "dd981afe-ff8e-4092-bc41-38db43212ff2",
   "metadata": {},
   "outputs": [
    {
     "name": "stdout",
     "output_type": "stream",
     "text": [
      "+-----------+-----------+---------+-----------+-------+-----------------+---------+\n",
      "|customer_id|       name|     city|      state|country|registration_date|is_active|\n",
      "+-----------+-----------+---------+-----------+-------+-----------------+---------+\n",
      "|          1| Customer_1|Bangalore| Tamil Nadu|  India|       2023-12-07|     true|\n",
      "|          3| Customer_3|Bangalore|  Karnataka|  India|       2023-10-17|    false|\n",
      "|         21|Customer_21|Bangalore| Tamil Nadu|  India|       2023-05-30|     true|\n",
      "|         38|Customer_38|Bangalore|  Telangana|  India|       2023-09-26|    false|\n",
      "|         41|Customer_41|Bangalore|  Karnataka|  India|       2023-03-28|    false|\n",
      "|         42|Customer_42|Bangalore|    Gujarat|  India|       2023-08-11|     true|\n",
      "|         78|Customer_78|Bangalore|Maharashtra|  India|       2023-03-31|    false|\n",
      "+-----------+-----------+---------+-----------+-------+-----------------+---------+\n",
      "\n"
     ]
    }
   ],
   "source": [
    "df.filter(df.city=='Bangalore').show()"
   ]
  },
  {
   "cell_type": "code",
   "execution_count": null,
   "id": "d2135dcb-090e-40f0-b955-b1fe5ac9b41d",
   "metadata": {},
   "outputs": [],
   "source": []
  }
 ],
 "metadata": {
  "kernelspec": {
   "display_name": "Python 3 (ipykernel)",
   "language": "python",
   "name": "python3"
  },
  "language_info": {
   "codemirror_mode": {
    "name": "ipython",
    "version": 3
   },
   "file_extension": ".py",
   "mimetype": "text/x-python",
   "name": "python",
   "nbconvert_exporter": "python",
   "pygments_lexer": "ipython3",
   "version": "3.10.14"
  }
 },
 "nbformat": 4,
 "nbformat_minor": 5
}
