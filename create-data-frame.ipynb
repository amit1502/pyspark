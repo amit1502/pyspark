{
 "cells": [
  {
   "cell_type": "code",
   "execution_count": 1,
   "id": "45fe062b-4601-4c78-b389-3df11e95cdfe",
   "metadata": {},
   "outputs": [],
   "source": [
    "from pyspark.sql import SparkSession"
   ]
  },
  {
   "cell_type": "code",
   "execution_count": 3,
   "id": "edb6b6af-45dd-40eb-a102-4b3b3232587d",
   "metadata": {},
   "outputs": [
    {
     "name": "stderr",
     "output_type": "stream",
     "text": [
      "Setting default log level to \"WARN\".\n",
      "To adjust logging level use sc.setLogLevel(newLevel). For SparkR, use setLogLevel(newLevel).\n",
      "25/03/30 17:25:42 WARN NativeCodeLoader: Unable to load native-hadoop library for your platform... using builtin-java classes where applicable\n"
     ]
    }
   ],
   "source": [
    "spark = SparkSession.builder \\\n",
    ".appName('Create Data Frame') \\\n",
    ".getOrCreate()"
   ]
  },
  {
   "cell_type": "code",
   "execution_count": 4,
   "id": "cc6ae979-bc85-456b-b53a-fa9f1a252a41",
   "metadata": {},
   "outputs": [],
   "source": [
    "data = [\n",
    "    (0, \"customer_0\", \"Banglore\", \"Karnataka\", \"India\", \"2023-11-11\", True),\n",
    "    (1, \"customer_1\", \"Delhi\", \"Delhi\", \"India\", \"2023-08-26\", True),\n",
    "]\n",
    "\n",
    "columns = [\"customer_id\", \"name\", \"city\", \"state\", \"country\", \"registration_date\", \"is_active\"]"
   ]
  },
  {
   "cell_type": "code",
   "execution_count": 5,
   "id": "5e54f1d9-01ba-4317-b0d6-2e4a89529405",
   "metadata": {},
   "outputs": [],
   "source": [
    "df = spark.createDataFrame(data, columns)"
   ]
  },
  {
   "cell_type": "code",
   "execution_count": 7,
   "id": "cf938f73-c35a-4914-a701-5883d348c412",
   "metadata": {},
   "outputs": [
    {
     "name": "stdout",
     "output_type": "stream",
     "text": [
      "+-----------+----------+--------+---------+-------+-----------------+---------+\n",
      "|customer_id|      name|    city|    state|country|registration_date|is_active|\n",
      "+-----------+----------+--------+---------+-------+-----------------+---------+\n",
      "|          0|customer_0|Banglore|Karnataka|  India|       2023-11-11|     true|\n",
      "|          1|customer_1|   Delhi|    Delhi|  India|       2023-08-26|     true|\n",
      "+-----------+----------+--------+---------+-------+-----------------+---------+\n",
      "\n"
     ]
    }
   ],
   "source": [
    "df.show() #action"
   ]
  },
  {
   "cell_type": "code",
   "execution_count": 8,
   "id": "202a49b2-6576-4c66-af0f-a396a9e30272",
   "metadata": {},
   "outputs": [
    {
     "name": "stdout",
     "output_type": "stream",
     "text": [
      "+-------+\n",
      "|country|\n",
      "+-------+\n",
      "|  India|\n",
      "|  India|\n",
      "+-------+\n",
      "\n"
     ]
    }
   ],
   "source": [
    "df.select('country').show()"
   ]
  },
  {
   "cell_type": "code",
   "execution_count": 9,
   "id": "5e9fac62-0b48-4e38-a78e-6ce128bffedc",
   "metadata": {},
   "outputs": [
    {
     "name": "stdout",
     "output_type": "stream",
     "text": [
      "+-------+\n",
      "|country|\n",
      "+-------+\n",
      "|  India|\n",
      "+-------+\n",
      "\n"
     ]
    }
   ],
   "source": [
    "df.select('country').distinct().show()"
   ]
  },
  {
   "cell_type": "code",
   "execution_count": null,
   "id": "2be93cd7-f6dd-4f57-bada-b98cccd804a9",
   "metadata": {},
   "outputs": [],
   "source": []
  }
 ],
 "metadata": {
  "kernelspec": {
   "display_name": "Python 3 (ipykernel)",
   "language": "python",
   "name": "python3"
  },
  "language_info": {
   "codemirror_mode": {
    "name": "ipython",
    "version": 3
   },
   "file_extension": ".py",
   "mimetype": "text/x-python",
   "name": "python",
   "nbconvert_exporter": "python",
   "pygments_lexer": "ipython3",
   "version": "3.10.14"
  }
 },
 "nbformat": 4,
 "nbformat_minor": 5
}
