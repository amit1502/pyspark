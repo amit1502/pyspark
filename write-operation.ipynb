{
 "cells": [
  {
   "cell_type": "code",
   "execution_count": 1,
   "id": "545742bf-3938-415c-8f75-1a2ecba6bd23",
   "metadata": {},
   "outputs": [],
   "source": [
    "from pyspark.sql import SparkSession"
   ]
  },
  {
   "cell_type": "code",
   "execution_count": 2,
   "id": "fdd36de8-f608-46e3-b9b3-ed69adebf2ed",
   "metadata": {},
   "outputs": [
    {
     "name": "stderr",
     "output_type": "stream",
     "text": [
      "Setting default log level to \"WARN\".\n",
      "To adjust logging level use sc.setLogLevel(newLevel). For SparkR, use setLogLevel(newLevel).\n",
      "25/03/30 18:17:12 WARN NativeCodeLoader: Unable to load native-hadoop library for your platform... using builtin-java classes where applicable\n",
      "25/03/30 18:17:13 WARN Utils: Service 'SparkUI' could not bind on port 4040. Attempting port 4041.\n"
     ]
    }
   ],
   "source": [
    "spark = SparkSession.builder \\\n",
    ".appName('write operation') \\\n",
    ".getOrCreate()"
   ]
  },
  {
   "cell_type": "code",
   "execution_count": 4,
   "id": "1d494df7-7c9f-4442-bbbe-28c95121c86c",
   "metadata": {},
   "outputs": [],
   "source": [
    "data = [\n",
    "    (0, 'customer_0', 'anpara', 'uttar pradesh', '2023-05-18'),\n",
    "    (1, 'customer_1', 'banglore', 'karnataka', '2023-09-18'),\n",
    "]\n",
    "\n",
    "column = ['customer_id', 'name', 'city', 'state', 'registration_date']"
   ]
  },
  {
   "cell_type": "code",
   "execution_count": 5,
   "id": "013acbc4-6768-4c52-8211-d0e8d89863b7",
   "metadata": {},
   "outputs": [],
   "source": [
    "df = spark.createDataFrame(data, column)"
   ]
  },
  {
   "cell_type": "code",
   "execution_count": 6,
   "id": "c961c44b-ce64-4c1a-9f60-16c3f249d041",
   "metadata": {},
   "outputs": [
    {
     "name": "stderr",
     "output_type": "stream",
     "text": [
      "                                                                                "
     ]
    },
    {
     "name": "stdout",
     "output_type": "stream",
     "text": [
      "+-----------+----------+--------+-------------+-----------------+\n",
      "|customer_id|      name|    city|        state|registration_date|\n",
      "+-----------+----------+--------+-------------+-----------------+\n",
      "|          0|customer_0|  anpara|uttar pradesh|       2023-05-18|\n",
      "|          1|customer_1|banglore|    karnataka|       2023-09-18|\n",
      "+-----------+----------+--------+-------------+-----------------+\n",
      "\n"
     ]
    }
   ],
   "source": [
    "df.show()"
   ]
  },
  {
   "cell_type": "code",
   "execution_count": 7,
   "id": "bab10ff8-7bcc-40f5-85a5-103bb7562f26",
   "metadata": {},
   "outputs": [
    {
     "data": {
      "text/plain": [
       "[Row(customer_id=0, name='customer_0', city='anpara', state='uttar pradesh', registration_date='2023-05-18'),\n",
       " Row(customer_id=1, name='customer_1', city='banglore', state='karnataka', registration_date='2023-09-18')]"
      ]
     },
     "execution_count": 7,
     "metadata": {},
     "output_type": "execute_result"
    }
   ],
   "source": [
    "df.collect()"
   ]
  },
  {
   "cell_type": "code",
   "execution_count": 14,
   "id": "2d43b95b-cf0a-495f-8ca5-b8a2aba10f42",
   "metadata": {},
   "outputs": [
    {
     "name": "stderr",
     "output_type": "stream",
     "text": [
      "                                                                                "
     ]
    }
   ],
   "source": [
    "df.write \\\n",
    ".format('csv') \\\n",
    ".option('header', 'true') \\\n",
    ".save('/root/pyspark/output/')"
   ]
  },
  {
   "cell_type": "code",
   "execution_count": 15,
   "id": "f28d4751-574d-4cee-815f-5b83b1f8b34e",
   "metadata": {},
   "outputs": [
    {
     "name": "stdout",
     "output_type": "stream",
     "text": [
      "_SUCCESS\n",
      "part-00000-a5022c14-5b1a-4d2c-86dd-4abe11c2863a-c000.csv\n",
      "part-00006-a5022c14-5b1a-4d2c-86dd-4abe11c2863a-c000.csv\n",
      "part-00013-a5022c14-5b1a-4d2c-86dd-4abe11c2863a-c000.csv\n"
     ]
    }
   ],
   "source": [
    "! ls /root/pyspark/output"
   ]
  },
  {
   "cell_type": "code",
   "execution_count": 16,
   "id": "d62ef228-f3a8-4275-a42a-12ea7ce75898",
   "metadata": {},
   "outputs": [
    {
     "name": "stdout",
     "output_type": "stream",
     "text": [
      "customer_id,name,city,state,registration_date\n",
      "customer_id,name,city,state,registration_date\n",
      "0,customer_0,anpara,uttar pradesh,2023-05-18\n",
      "customer_id,name,city,state,registration_date\n",
      "1,customer_1,banglore,karnataka,2023-09-18\n"
     ]
    }
   ],
   "source": [
    "! cat /root/pyspark/output/*"
   ]
  },
  {
   "cell_type": "code",
   "execution_count": null,
   "id": "00b53b12-c77c-4a20-b172-f0756fd4661f",
   "metadata": {},
   "outputs": [],
   "source": []
  },
  {
   "cell_type": "code",
   "execution_count": 17,
   "id": "79f6342c-1a89-46a1-8d0c-95fb2b432c67",
   "metadata": {},
   "outputs": [],
   "source": [
    "df = spark.createDataFrame(data, column)"
   ]
  },
  {
   "cell_type": "code",
   "execution_count": 19,
   "id": "770d23f0-5dde-4279-978f-aa7be52468b2",
   "metadata": {},
   "outputs": [
    {
     "data": {
      "text/plain": [
       "14"
      ]
     },
     "execution_count": 19,
     "metadata": {},
     "output_type": "execute_result"
    }
   ],
   "source": [
    "df.rdd.getNumPartitions()"
   ]
  },
  {
   "cell_type": "code",
   "execution_count": 20,
   "id": "d474aae8-5e0c-4f48-8e94-0a87cff844c3",
   "metadata": {},
   "outputs": [
    {
     "name": "stderr",
     "output_type": "stream",
     "text": [
      "                                                                                "
     ]
    }
   ],
   "source": [
    "df.repartition(1).write\\\n",
    ".format('csv') \\\n",
    ".option('header', 'true') \\\n",
    ".save('/root/pyspark/output_2/')"
   ]
  },
  {
   "cell_type": "code",
   "execution_count": 21,
   "id": "16ab44a1-21fc-48e9-a462-426c3f257971",
   "metadata": {},
   "outputs": [
    {
     "name": "stdout",
     "output_type": "stream",
     "text": [
      "customer_id,name,city,state,registration_date\n",
      "0,customer_0,anpara,uttar pradesh,2023-05-18\n",
      "1,customer_1,banglore,karnataka,2023-09-18\n"
     ]
    }
   ],
   "source": [
    "! cat /root/pyspark/output_2/*"
   ]
  },
  {
   "cell_type": "code",
   "execution_count": null,
   "id": "33c195c5-e5f7-458e-817e-fdfa6bc0186f",
   "metadata": {},
   "outputs": [],
   "source": []
  }
 ],
 "metadata": {
  "kernelspec": {
   "display_name": "Python 3 (ipykernel)",
   "language": "python",
   "name": "python3"
  },
  "language_info": {
   "codemirror_mode": {
    "name": "ipython",
    "version": 3
   },
   "file_extension": ".py",
   "mimetype": "text/x-python",
   "name": "python",
   "nbconvert_exporter": "python",
   "pygments_lexer": "ipython3",
   "version": "3.10.14"
  }
 },
 "nbformat": 4,
 "nbformat_minor": 5
}
