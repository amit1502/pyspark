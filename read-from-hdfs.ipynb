{
 "cells": [
  {
   "cell_type": "code",
   "execution_count": 2,
   "id": "89f4bab8-ed02-4fe2-9214-2a36424dcf36",
   "metadata": {},
   "outputs": [],
   "source": [
    "from pyspark.sql import SparkSession"
   ]
  },
  {
   "cell_type": "code",
   "execution_count": 3,
   "id": "22c6b618-9aec-47a6-8866-1e453fa2764a",
   "metadata": {},
   "outputs": [
    {
     "name": "stderr",
     "output_type": "stream",
     "text": [
      "Setting default log level to \"WARN\".\n",
      "To adjust logging level use sc.setLogLevel(newLevel). For SparkR, use setLogLevel(newLevel).\n",
      "25/03/30 17:39:55 WARN NativeCodeLoader: Unable to load native-hadoop library for your platform... using builtin-java classes where applicable\n",
      "25/03/30 17:39:56 WARN Utils: Service 'SparkUI' could not bind on port 4040. Attempting port 4041.\n"
     ]
    }
   ],
   "source": [
    "spark = SparkSession.builder \\\n",
    ".appName('Read from hdfs') \\\n",
    ".getOrCreate()"
   ]
  },
  {
   "cell_type": "code",
   "execution_count": 4,
   "id": "5c00e9cd-c3c9-4080-9e68-fd7ae0986b8e",
   "metadata": {},
   "outputs": [],
   "source": [
    "df2 = spark.read \\\n",
    ".format('csv') \\\n",
    ".option('header', 'true') \\\n",
    ".option('inferSchema', 'true') \\\n",
    ".load('/root/pyspark/first_100_customers.csv')"
   ]
  },
  {
   "cell_type": "code",
   "execution_count": 5,
   "id": "2fecc1ca-84ed-4aab-ac89-e3cfb4e86313",
   "metadata": {},
   "outputs": [
    {
     "name": "stdout",
     "output_type": "stream",
     "text": [
      "+-----------+-----------+---------+-----------+-------+-----------------+---------+\n",
      "|customer_id|       name|     city|      state|country|registration_date|is_active|\n",
      "+-----------+-----------+---------+-----------+-------+-----------------+---------+\n",
      "|          0| Customer_0|     Pune|Maharashtra|  India|       2023-06-29|    false|\n",
      "|          1| Customer_1|Bangalore| Tamil Nadu|  India|       2023-12-07|     true|\n",
      "|          2| Customer_2|Hyderabad|    Gujarat|  India|       2023-10-27|     true|\n",
      "|          3| Customer_3|Bangalore|  Karnataka|  India|       2023-10-17|    false|\n",
      "|          4| Customer_4|Ahmedabad|  Karnataka|  India|       2023-03-14|    false|\n",
      "|          5| Customer_5|Hyderabad|  Karnataka|  India|       2023-07-28|    false|\n",
      "|          6| Customer_6|     Pune|      Delhi|  India|       2023-08-29|    false|\n",
      "|          7| Customer_7|Ahmedabad|West Bengal|  India|       2023-12-28|     true|\n",
      "|          8| Customer_8|     Pune|  Karnataka|  India|       2023-06-22|     true|\n",
      "|          9| Customer_9|   Mumbai|  Telangana|  India|       2023-01-05|     true|\n",
      "|         10|Customer_10|     Pune|    Gujarat|  India|       2023-08-05|     true|\n",
      "|         11|Customer_11|    Delhi|West Bengal|  India|       2023-08-02|    false|\n",
      "|         12|Customer_12|  Chennai|    Gujarat|  India|       2023-11-21|    false|\n",
      "|         13|Customer_13|  Chennai|  Karnataka|  India|       2023-11-06|     true|\n",
      "|         14|Customer_14|Hyderabad| Tamil Nadu|  India|       2023-02-07|    false|\n",
      "|         15|Customer_15|   Mumbai|    Gujarat|  India|       2023-03-02|     true|\n",
      "|         16|Customer_16|  Chennai|  Karnataka|  India|       2023-04-05|    false|\n",
      "|         17|Customer_17|Hyderabad|West Bengal|  India|       2023-08-21|    false|\n",
      "|         18|Customer_18|     Pune|      Delhi|  India|       2023-10-04|     true|\n",
      "|         19|Customer_19|  Kolkata|    Gujarat|  India|       2023-02-05|     true|\n",
      "+-----------+-----------+---------+-----------+-------+-----------------+---------+\n",
      "only showing top 20 rows\n",
      "\n"
     ]
    }
   ],
   "source": [
    "df2.show()"
   ]
  },
  {
   "cell_type": "code",
   "execution_count": 6,
   "id": "d6f1e8bb-4e39-4a6e-8c80-816cfe9e9836",
   "metadata": {},
   "outputs": [
    {
     "name": "stdout",
     "output_type": "stream",
     "text": [
      "root\n",
      " |-- customer_id: integer (nullable = true)\n",
      " |-- name: string (nullable = true)\n",
      " |-- city: string (nullable = true)\n",
      " |-- state: string (nullable = true)\n",
      " |-- country: string (nullable = true)\n",
      " |-- registration_date: date (nullable = true)\n",
      " |-- is_active: boolean (nullable = true)\n",
      "\n"
     ]
    }
   ],
   "source": [
    "df2.printSchema()"
   ]
  },
  {
   "cell_type": "code",
   "execution_count": 7,
   "id": "dbd14af4-85de-48f3-8493-e61fe12492ee",
   "metadata": {},
   "outputs": [
    {
     "name": "stdout",
     "output_type": "stream",
     "text": [
      "+-----------+-----------+---------+-----------+-------+-----------------+---------+\n",
      "|customer_id|       name|     city|      state|country|registration_date|is_active|\n",
      "+-----------+-----------+---------+-----------+-------+-----------------+---------+\n",
      "|          1| Customer_1|Bangalore| Tamil Nadu|  India|       2023-12-07|     true|\n",
      "|          2| Customer_2|Hyderabad|    Gujarat|  India|       2023-10-27|     true|\n",
      "|          7| Customer_7|Ahmedabad|West Bengal|  India|       2023-12-28|     true|\n",
      "|          8| Customer_8|     Pune|  Karnataka|  India|       2023-06-22|     true|\n",
      "|          9| Customer_9|   Mumbai|  Telangana|  India|       2023-01-05|     true|\n",
      "|         10|Customer_10|     Pune|    Gujarat|  India|       2023-08-05|     true|\n",
      "|         13|Customer_13|  Chennai|  Karnataka|  India|       2023-11-06|     true|\n",
      "|         15|Customer_15|   Mumbai|    Gujarat|  India|       2023-03-02|     true|\n",
      "|         18|Customer_18|     Pune|      Delhi|  India|       2023-10-04|     true|\n",
      "|         19|Customer_19|  Kolkata|    Gujarat|  India|       2023-02-05|     true|\n",
      "|         20|Customer_20|Hyderabad|  Telangana|  India|       2023-01-01|     true|\n",
      "|         21|Customer_21|Bangalore| Tamil Nadu|  India|       2023-05-30|     true|\n",
      "|         22|Customer_22|  Chennai|West Bengal|  India|       2023-08-03|     true|\n",
      "|         26|Customer_26|    Delhi|      Delhi|  India|       2023-03-22|     true|\n",
      "|         27|Customer_27|Ahmedabad|    Gujarat|  India|       2023-07-08|     true|\n",
      "|         28|Customer_28|Hyderabad|Maharashtra|  India|       2023-05-31|     true|\n",
      "|         34|Customer_34|  Kolkata|    Gujarat|  India|       2023-11-01|     true|\n",
      "|         36|Customer_36|Ahmedabad| Tamil Nadu|  India|       2023-10-07|     true|\n",
      "|         37|Customer_37|Hyderabad|  Karnataka|  India|       2023-03-21|     true|\n",
      "|         42|Customer_42|Bangalore|    Gujarat|  India|       2023-08-11|     true|\n",
      "+-----------+-----------+---------+-----------+-------+-----------------+---------+\n",
      "only showing top 20 rows\n",
      "\n"
     ]
    }
   ],
   "source": [
    "df2.filter('is_active=true').show()"
   ]
  },
  {
   "cell_type": "code",
   "execution_count": 9,
   "id": "a5e1f921-a175-471f-8f02-2e614255868a",
   "metadata": {},
   "outputs": [
    {
     "data": {
      "text/plain": [
       "53"
      ]
     },
     "execution_count": 9,
     "metadata": {},
     "output_type": "execute_result"
    }
   ],
   "source": [
    "df2.filter('is_active=true').count()"
   ]
  },
  {
   "cell_type": "code",
   "execution_count": 11,
   "id": "941cba6a-c39c-417a-b6de-bd5d804886eb",
   "metadata": {},
   "outputs": [],
   "source": [
    "spark.stop()"
   ]
  },
  {
   "cell_type": "code",
   "execution_count": null,
   "id": "77046114-cbab-4ba2-aebf-428e69f9827c",
   "metadata": {},
   "outputs": [],
   "source": []
  }
 ],
 "metadata": {
  "kernelspec": {
   "display_name": "Python 3 (ipykernel)",
   "language": "python",
   "name": "python3"
  },
  "language_info": {
   "codemirror_mode": {
    "name": "ipython",
    "version": 3
   },
   "file_extension": ".py",
   "mimetype": "text/x-python",
   "name": "python",
   "nbconvert_exporter": "python",
   "pygments_lexer": "ipython3",
   "version": "3.10.14"
  }
 },
 "nbformat": 4,
 "nbformat_minor": 5
}
